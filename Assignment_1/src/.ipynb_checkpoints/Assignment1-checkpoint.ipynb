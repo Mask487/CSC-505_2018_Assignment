{
 "cells": [
  {
   "cell_type": "code",
   "execution_count": 2,
   "metadata": {},
   "outputs": [
    {
     "name": "stdout",
     "output_type": "stream",
     "text": [
      "[('Kevin Keomalaythong', '130722'), ('Eury Kim', '682504')]\n",
      "[('Mouna Kalidindi', '540365'), ('Jonathan Langston', '115719')]\n",
      "[('Evan Crabtree', '90387'), ('Evan Rhoades', '879020')]\n",
      "[('Mouna Kalidindi', '540365'), ('Charles Stamey', '42604')]\n",
      "[('Gregory Purvine', '94877'), ('Justin Oakley', '201430')]\n",
      "[('darpan Jhawar', '166174'), ('Gregory Purvine', '94877')]\n",
      "[('Blair Gentry', '289174'), ('Shiyang Xiao', '718927')]\n",
      "[('Yang Peng', '671702'), ('Gregory Purvine', '94877')]\n",
      "[('Syed Ahzaz Shah', '492924'), ('Kevin Keomalaythong', '130722')]\n",
      "[('Maclean Frazier', '919611'), ('Syed Ahzaz Shah', '492924')]\n",
      "[('Bhavana Yennam', '91253'), ('Richard Powell', '838561')]\n",
      "[('darpan Jhawar', '166174'), ('Jonathan Langston', '115719')]\n",
      "[('Evan Crabtree', '90387'), ('Logan Hornbuckle', '668967')]\n",
      "[('Bhavana Yennam', '91253'), ('Thien Le', '238467')]\n",
      "[('Evan Rhoades', '879020'), ('Cody Cothern', '607252')]\n",
      "[('Garrett Mostella', '665278'), ('Bety Rostandy', '88452')]\n",
      "[('Gregory Purvine', '94877'), ('Daniel Wingo', '804939')]\n",
      "[('Richard Powell', '838561'), ('Yang Peng', '671702')]\n",
      "[('darpan Jhawar', '166174'), ('Luke Davis', '812917')]\n",
      "[('Rohit Gulia', '718591'), ('darpan Jhawar', '166174')]\n",
      "[('Hao Zhang', '52621'), ('Blair Gentry', '289174')]\n",
      "[('Spencer Whyatt', '497988'), ('Garrett Mostella', '665278')]\n",
      "[('Syed Ahzaz Shah', '492924'), ('Evan Crabtree', '90387')]\n",
      "[('Shiyang Xiao', '718927'), ('Spencer Whyatt', '497988')]\n",
      "[('Justin Oakley', '201430'), ('Phillip Jones', '342206')]\n",
      "[('Thien Le', '238467'), ('Evan Rhoades', '879020')]\n",
      "[('Richard Powell', '838561'), ('darpan Jhawar', '166174')]\n",
      "[('Cody Cothern', '607252'), ('Saed Sayedahmed', '662179')]\n",
      "[('Syed Ahzaz Shah', '492924'), ('darpan Jhawar', '166174')]\n",
      "[('Gregory Purvine', '94877'), ('Rohit Gulia', '718591')]\n",
      "[('Justin Oakley', '201430'), ('Evan Crabtree', '90387')]\n",
      "[('Kevin Keomalaythong', '130722'), ('Syed Ahzaz Shah', '492924')]\n",
      "[('Rohit Gulia', '718591'), ('Cody Cothern', '607252')]\n"
     ]
    }
   ],
   "source": [
    "import csv\n",
    "import random\n",
    "\n",
    "file = open('C:\\Users\\cothe\\Desktop\\CSC\\CSC505\\CSC-505_2018_Assignment\\Assignment_1\\data\\student_list.csv', \"rb\")\n",
    "reader = csv.reader(file)\n",
    "data = map(tuple,reader)\n",
    "file.close\n",
    "del data[0]\n",
    "for line in data:\n",
    "    random.shuffle(data)\n",
    "    team = data[0:2]\n",
    "    #team = data.pop(data.remove(random.sample(data, 3)))\n",
    "    print team\n",
    "#for line in reader:\n",
    " #   #line = line.strip()\n",
    "  #  data.append(line)\n",
    "#data"
   ]
  },
  {
   "cell_type": "code",
   "execution_count": null,
   "metadata": {},
   "outputs": [],
   "source": []
  }
 ],
 "metadata": {
  "kernelspec": {
   "display_name": "Python 2",
   "language": "python",
   "name": "python2"
  },
  "language_info": {
   "codemirror_mode": {
    "name": "ipython",
    "version": 2
   },
   "file_extension": ".py",
   "mimetype": "text/x-python",
   "name": "python",
   "nbconvert_exporter": "python",
   "pygments_lexer": "ipython2",
   "version": "2.7.15"
  }
 },
 "nbformat": 4,
 "nbformat_minor": 2
}
