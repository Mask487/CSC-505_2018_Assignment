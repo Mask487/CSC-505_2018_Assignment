{
 "cells": [
  {
   "cell_type": "code",
   "execution_count": 10,
   "metadata": {},
   "outputs": [
    {
     "name": "stdout",
     "output_type": "stream",
     "text": [
      "[('Bety Rostandy', '88452'), ('Evan Crabtree', '90387'), ('Luke Davis', '812917')]\n",
      "[('Jonathan Langston', '115719'), ('Matthew Smitherman', '116847'), ('Eury Kim', '682504')]\n",
      "[('Daniel Wingo', '804939'), ('Evan Rhoades', '879020'), ('Spencer Whyatt', '497988')]\n",
      "[('Mouna Kalidindi', '540365'), ('Rohit Gulia', '718591'), ('Hao Zhang', '52621')]\n",
      "[('Syed Ahzaz Shah', '492924'), ('Shiyang Xiao', '718927'), ('Kevin Keomalaythong', '130722')]\n",
      "[('Garrett Mostella', '665278'), ('Bhavana Yennam', '91253'), ('Oana Dumitrescu', '928538')]\n",
      "[('Maclean Frazier', '919611'), ('darpan Jhawar', '166174'), ('Richard Powell', '838561')]\n",
      "[('Linh Tran', '689359'), ('Hadi Soufi', '756405'), ('Justin Oakley', '201430')]\n",
      "[('Phillip Jones', '342206'), ('Blair Gentry', '289174'), ('Saed Sayedahmed', '662179')]\n",
      "[('Gregory Purvine', '94877'), ('Thien Le', '238467'), ('Cody Cothern', '607252')]\n",
      "[('Charles Stamey', '42604'), ('Yang Peng', '671702'), ('Logan Hornbuckle', '668967')]\n"
     ]
    }
   ],
   "source": [
    "#imports\n",
    "import csv\n",
    "import random\n",
    "\n",
    "#open file and read data, map data to list of tuples combining names and ID's, finally closing the file\n",
    "file = open('C:\\Users\\cothe\\Desktop\\CSC\\CSC505\\CSC-505_2018_Assignment\\Assignment_1\\data\\student_list.csv', \"rb\")\n",
    "reader = csv.reader(file)\n",
    "data = map(tuple,reader)\n",
    "file.close\n",
    "\n",
    "#delete labels from list\n",
    "del data[0]\n",
    "\n",
    "#print original list just for reference(used in testing and checking)\n",
    "#for line in range(len(data)):\n",
    "#    print data[line]\n",
    "#print ''\n",
    "\n",
    "#loop through entire list\n",
    "for line in range(len(data)):\n",
    "    \n",
    "    #if the list is empty, break loop\n",
    "    if len(data) == 0:\n",
    "        break\n",
    "        \n",
    "    #get random sample from list of size 3\n",
    "    team = random.sample(data,3)\n",
    "    \n",
    "    #remove the assembled team from the list\n",
    "    data.remove(team[0])\n",
    "    data.remove(team[1])\n",
    "    data.remove(team[2])\n",
    "    \n",
    "    #print the team\n",
    "    print team"
   ]
  },
  {
   "cell_type": "code",
   "execution_count": null,
   "metadata": {},
   "outputs": [],
   "source": []
  }
 ],
 "metadata": {
  "kernelspec": {
   "display_name": "Python 2",
   "language": "python",
   "name": "python2"
  },
  "language_info": {
   "codemirror_mode": {
    "name": "ipython",
    "version": 2
   },
   "file_extension": ".py",
   "mimetype": "text/x-python",
   "name": "python",
   "nbconvert_exporter": "python",
   "pygments_lexer": "ipython2",
   "version": "2.7.15"
  }
 },
 "nbformat": 4,
 "nbformat_minor": 2
}
